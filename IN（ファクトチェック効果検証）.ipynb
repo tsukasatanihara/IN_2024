{
 "cells": [
  {
   "cell_type": "code",
   "execution_count": 1,
   "id": "341dd158",
   "metadata": {},
   "outputs": [],
   "source": [
    "import pandas as pd\n",
    "data = pd.read_stata('2302_偽・誤情報調査データ.dta')\n",
    "data.to_csv('2302_偽・誤情報調査データ.csv', index=False, encoding='cp932')"
   ]
  },
  {
   "cell_type": "code",
   "execution_count": 4,
   "id": "0051917c",
   "metadata": {},
   "outputs": [
    {
     "name": "stderr",
     "output_type": "stream",
     "text": [
      "C:\\Users\\tanihara\\AppData\\Local\\Temp\\ipykernel_15820\\1951895915.py:1: DtypeWarning: Columns (2115,2133,2188,2229,2302,2319) have mixed types. Specify dtype option on import or set low_memory=False.\n",
      "  data = pd.read_csv('2302_偽・誤情報調査データ.csv', encoding='cp932')\n"
     ]
    }
   ],
   "source": [
    "data = pd.read_csv('2302_偽・誤情報調査データ.csv', encoding='cp932')"
   ]
  },
  {
   "cell_type": "markdown",
   "id": "9d4c4587",
   "metadata": {},
   "source": [
    "# 記述統計"
   ]
  },
  {
   "cell_type": "code",
   "execution_count": 9,
   "id": "942cee65",
   "metadata": {},
   "outputs": [
    {
     "name": "stdout",
     "output_type": "stream",
     "text": [
      "\n",
      "最初の真偽判断の度数分布:\n",
      " 0    15000\n",
      "1      364\n",
      "2      824\n",
      "3      766\n",
      "4     2497\n",
      "5      298\n",
      "6      158\n",
      "7       93\n",
      "Name: q38提示情報の信頼度, dtype: int64\n"
     ]
    }
   ],
   "source": [
    "# 事前の審議判断\n",
    "pre = data['q38提示情報の信頼度'].value_counts().sort_index()\n",
    "print(\"\\n最初の真偽判断の度数分布:\\n\", pre)"
   ]
  },
  {
   "cell_type": "code",
   "execution_count": 11,
   "id": "0b46dee1",
   "metadata": {},
   "outputs": [
    {
     "name": "stdout",
     "output_type": "stream",
     "text": [
      "\n",
      "最初の真偽判断の度数分布（ウェイト）:\n",
      " q38提示情報の信頼度\n",
      "0    7323.697185\n",
      "1     180.032133\n",
      "2     410.860121\n",
      "3     381.496355\n",
      "4    1234.016197\n",
      "5     146.215168\n",
      "6      77.665296\n",
      "7      45.640780\n",
      "dtype: float64\n"
     ]
    }
   ],
   "source": [
    "# preのウェイト付き度数分布\n",
    "pre_weighted = data.groupby('q38提示情報の信頼度').apply(lambda x: (x['weight']).sum())\n",
    "print(\"\\n最初の真偽判断の度数分布（ウェイト）:\\n\", pre_weighted)"
   ]
  },
  {
   "cell_type": "code",
   "execution_count": 13,
   "id": "769b3dc9",
   "metadata": {},
   "outputs": [
    {
     "name": "stdout",
     "output_type": "stream",
     "text": [
      "条件を満たす被験者の事後判断のウェイト付き真偽判定の分布:\n",
      " q39a2\n",
      "1      5.907315\n",
      "2      7.785225\n",
      "3     17.834416\n",
      "4    106.111134\n",
      "5     56.354166\n",
      "6     57.329846\n",
      "7     15.621677\n",
      "dtype: float64\n"
     ]
    }
   ],
   "source": [
    "# 政府\n",
    "# 条件に合致するデータのフィルタリング\n",
    "filtered_data = data[(data['q38提示情報の信頼度'].between(4, 7)) & (data['q39a11'] == 1) & (data['q39a14'] == 1)]\n",
    "\n",
    "# ウェイト付きでの事後判断の度数分布の計算\n",
    "post_weighted = filtered_data.groupby('q39a2').apply(lambda x: (x['weight']).sum())\n",
    "\n",
    "# 結果の表示\n",
    "print(\"条件を満たす被験者の事後判断のウェイト付き真偽判定の分布:\\n\", post_weighted)"
   ]
  },
  {
   "cell_type": "code",
   "execution_count": 16,
   "id": "074e7206",
   "metadata": {},
   "outputs": [
    {
     "name": "stdout",
     "output_type": "stream",
     "text": [
      "q39b2\n",
      "1      5.009824\n",
      "2      8.787310\n",
      "3     14.571898\n",
      "4    101.999534\n",
      "5     47.134631\n",
      "6     67.229507\n",
      "7     25.333127\n",
      "dtype: float64\n"
     ]
    }
   ],
   "source": [
    "# バズフィード\n",
    "# 条件に合致するデータのフィルタリング\n",
    "filtered_data_b = data[(data['q38提示情報の信頼度'].between(4, 7)) & (data['q39b11'] == 1) & (data['q39b14'] == 1)]\n",
    "\n",
    "# ウェイト付きでの事後判断の度数分布の計算\n",
    "post_weighted_b = filtered_data_b.groupby('q39b2').apply(lambda x: (x['weight']).sum())\n",
    "\n",
    "# 結果の表示\n",
    "print(post_weighted_b)"
   ]
  },
  {
   "cell_type": "code",
   "execution_count": 18,
   "id": "56f23ce2",
   "metadata": {},
   "outputs": [
    {
     "name": "stdout",
     "output_type": "stream",
     "text": [
      "q39c2\n",
      "1     5.839909\n",
      "2     8.707106\n",
      "3    22.823138\n",
      "4    88.208185\n",
      "5    76.488528\n",
      "6    70.817041\n",
      "7    18.615322\n",
      "dtype: float64\n"
     ]
    }
   ],
   "source": [
    "# マスメディア\n",
    "# 条件に合致するデータのフィルタリング\n",
    "filtered_data_m = data[(data['q38提示情報の信頼度'].between(4, 7)) & (data['q39c11'] == 1) & (data['q39c14'] == 1)]\n",
    "\n",
    "# ウェイト付きでの事後判断の度数分布の計算\n",
    "post_weighted_m = filtered_data_m.groupby('q39c2').apply(lambda x: (x['weight']).sum())\n",
    "\n",
    "# 結果の表示\n",
    "print(post_weighted_m)"
   ]
  },
  {
   "cell_type": "code",
   "execution_count": 20,
   "id": "84eafa10",
   "metadata": {},
   "outputs": [
    {
     "name": "stdout",
     "output_type": "stream",
     "text": [
      "q39d1\n",
      "0    1164.730122\n",
      "1       8.196913\n",
      "2      16.174838\n",
      "3      30.411664\n",
      "4     263.214440\n",
      "5      17.305496\n",
      "6       2.031899\n",
      "7       1.472069\n",
      "dtype: float64\n"
     ]
    }
   ],
   "source": [
    "# 統制\n",
    "# 条件に合致するデータのフィルタリング\n",
    "filtered_data_c = data[(data['q38提示情報の信頼度'].between(4, 7))]\n",
    "\n",
    "# ウェイト付きでの事後判断の度数分布の計算\n",
    "post_weighted_c = filtered_data_c.groupby('q39d1').apply(lambda x: (x['weight']).sum())\n",
    "\n",
    "# 結果の表示\n",
    "print(post_weighted_c)"
   ]
  },
  {
   "cell_type": "markdown",
   "id": "9a7376a8",
   "metadata": {},
   "source": [
    "# それぞれのファクトチェックに効果はあるか（t検定）"
   ]
  },
  {
   "cell_type": "code",
   "execution_count": 23,
   "id": "46fd7de7",
   "metadata": {},
   "outputs": [
    {
     "name": "stdout",
     "output_type": "stream",
     "text": [
      "t統計量: 209.1022, p値: 0.00000000000000000000\n"
     ]
    }
   ],
   "source": [
    "from scipy.stats import ttest_ind_from_stats\n",
    "# 政府\n",
    "# 介入グループのデータ\n",
    "intervention_proportion = 0.484  # 48.4%\n",
    "intervention_size = 266.9438\n",
    "# 介入グループの成功数と失敗数\n",
    "intervention_success = intervention_proportion * intervention_size\n",
    "intervention_failure = (1 - intervention_proportion) * intervention_size\n",
    "\n",
    "# 統制グループのデータ\n",
    "control_proportion = 0.061  # 6.1%\n",
    "control_size = 338.8073\n",
    "# 統制グループの成功数と失敗数\n",
    "control_success = control_proportion * control_size\n",
    "control_failure = (1 - control_proportion) * control_size\n",
    "\n",
    "# t検定の実行\n",
    "# 成功数（mean）、サンプルサイズ（nobs）、標準偏差（std_dev）を使用\n",
    "t_stat, p_value = ttest_ind_from_stats(\n",
    "    mean1=intervention_success, std1=(intervention_success * intervention_failure / intervention_size)**0.5, nobs1=intervention_size,\n",
    "    mean2=control_success, std2=(control_success * control_failure / control_size)**0.5, nobs2=control_size\n",
    ")\n",
    "\n",
    "print(f\"t統計量: {t_stat:.4f}, p値: {p_value:.20f}\")"
   ]
  },
  {
   "cell_type": "code",
   "execution_count": 25,
   "id": "18b83933",
   "metadata": {},
   "outputs": [
    {
     "name": "stdout",
     "output_type": "stream",
     "text": [
      "t統計量: 228.5748, p値: 0.00000000000000000000\n"
     ]
    }
   ],
   "source": [
    "# バズフィード\n",
    "# 介入グループのデータ\n",
    "intervention_proportion = 0.517 \n",
    "intervention_size = 270.0658\n",
    "# 介入グループの成功数と失敗数\n",
    "intervention_success = intervention_proportion * intervention_size\n",
    "intervention_failure = (1 - intervention_proportion) * intervention_size\n",
    "\n",
    "# 統制グループのデータ\n",
    "control_proportion = 0.061  # 6.1%\n",
    "control_size = 338.8073\n",
    "# 統制グループの成功数と失敗数\n",
    "control_success = control_proportion * control_size\n",
    "control_failure = (1 - control_proportion) * control_size\n",
    "\n",
    "# t検定の実行\n",
    "# 成功数（mean）、サンプルサイズ（nobs）、標準偏差（std_dev）を使用\n",
    "t_stat, p_value = ttest_ind_from_stats(\n",
    "    mean1=intervention_success, std1=(intervention_success * intervention_failure / intervention_size)**0.5, nobs1=intervention_size,\n",
    "    mean2=control_success, std2=(control_success * control_failure / control_size)**0.5, nobs2=control_size\n",
    ")\n",
    "\n",
    "print(f\"t統計量: {t_stat:.4f}, p値: {p_value:.20f}\")"
   ]
  },
  {
   "cell_type": "code",
   "execution_count": 26,
   "id": "74c9478f",
   "metadata": {},
   "outputs": [
    {
     "name": "stdout",
     "output_type": "stream",
     "text": [
      "t統計量: 275.6120, p値: 0.00000000000000000000\n"
     ]
    }
   ],
   "source": [
    "# マスメディア\n",
    "# 介入グループのデータ\n",
    "intervention_proportion = 0.569 \n",
    "intervention_size = 291.4992\n",
    "# 介入グループの成功数と失敗数\n",
    "intervention_success = intervention_proportion * intervention_size\n",
    "intervention_failure = (1 - intervention_proportion) * intervention_size\n",
    "\n",
    "# 統制グループのデータ\n",
    "control_proportion = 0.061  # 6.1%\n",
    "control_size = 338.8073\n",
    "# 統制グループの成功数と失敗数\n",
    "control_success = control_proportion * control_size\n",
    "control_failure = (1 - control_proportion) * control_size\n",
    "\n",
    "# t検定の実行\n",
    "# 成功数（mean）、サンプルサイズ（nobs）、標準偏差（std_dev）を使用\n",
    "t_stat, p_value = ttest_ind_from_stats(\n",
    "    mean1=intervention_success, std1=(intervention_success * intervention_failure / intervention_size)**0.5, nobs1=intervention_size,\n",
    "    mean2=control_success, std2=(control_success * control_failure / control_size)**0.5, nobs2=control_size\n",
    ")\n",
    "\n",
    "print(f\"t統計量: {t_stat:.4f}, p値: {p_value:.20f}\")"
   ]
  },
  {
   "cell_type": "markdown",
   "id": "339340a7",
   "metadata": {},
   "source": [
    "# 介入措置ごとのt検定（ボンフェローニの補正をしたt-test）"
   ]
  },
  {
   "cell_type": "code",
   "execution_count": 27,
   "id": "91029dbd",
   "metadata": {},
   "outputs": [
    {
     "name": "stdout",
     "output_type": "stream",
     "text": [
      "t統計量: -14.7482, p値: 0.00000000000000000000\n"
     ]
    }
   ],
   "source": [
    "# 政府 vs バズフィード\n",
    "# 政府グループのデータ\n",
    "intervention_proportion = 0.484  \n",
    "intervention_size = 266.9438\n",
    "# 政府グループの成功数と失敗数\n",
    "intervention_success = intervention_proportion * intervention_size\n",
    "intervention_failure = (1 - intervention_proportion) * intervention_size\n",
    "\n",
    "# バズフィードグループのデータ\n",
    "control_proportion = 0.517 \n",
    "control_size = 270.0658\n",
    "# バズフィードグループの成功数と失敗数\n",
    "control_success = control_proportion * control_size\n",
    "control_failure = (1 - control_proportion) * control_size\n",
    "\n",
    "# t検定の実行\n",
    "# 成功数（mean）、サンプルサイズ（nobs）、標準偏差（std_dev）を使用\n",
    "t_stat, p_value = ttest_ind_from_stats(\n",
    "    mean1=intervention_success, std1=(intervention_success * intervention_failure / intervention_size)**0.5, nobs1=intervention_size,\n",
    "    mean2=control_success, std2=(control_success * control_failure / control_size)**0.5, nobs2=control_size\n",
    ")\n",
    "\n",
    "print(f\"t統計量: {t_stat:.4f}, p値: {p_value:.20f}\")"
   ]
  },
  {
   "cell_type": "code",
   "execution_count": 28,
   "id": "59f0ea3b",
   "metadata": {},
   "outputs": [
    {
     "name": "stdout",
     "output_type": "stream",
     "text": [
      "t統計量: -52.0303, p値: 0.00000000000000000000\n"
     ]
    }
   ],
   "source": [
    "# 政府 vs マスメディア\n",
    "# 政府グループのデータ\n",
    "intervention_proportion = 0.484  \n",
    "intervention_size = 266.9438\n",
    "# 政府グループの成功数と失敗数\n",
    "intervention_success = intervention_proportion * intervention_size\n",
    "intervention_failure = (1 - intervention_proportion) * intervention_size\n",
    "\n",
    "# マスメディアグループのデータ\n",
    "control_proportion = 0.569   \n",
    "control_size = 291.4992\n",
    "# マスメディアグループの成功数と失敗数\n",
    "control_success = control_proportion * control_size\n",
    "control_failure = (1 - control_proportion) * control_size\n",
    "\n",
    "# t検定の実行\n",
    "# 成功数（mean）、サンプルサイズ（nobs）、標準偏差（std_dev）を使用\n",
    "t_stat, p_value = ttest_ind_from_stats(\n",
    "    mean1=intervention_success, std1=(intervention_success * intervention_failure / intervention_size)**0.5, nobs1=intervention_size,\n",
    "    mean2=control_success, std2=(control_success * control_failure / control_size)**0.5, nobs2=control_size\n",
    ")\n",
    "\n",
    "print(f\"t統計量: {t_stat:.4f}, p値: {p_value:.20f}\")"
   ]
  },
  {
   "cell_type": "code",
   "execution_count": 29,
   "id": "01724a2f",
   "metadata": {},
   "outputs": [
    {
     "name": "stdout",
     "output_type": "stream",
     "text": [
      "t統計量: -37.2549, p値: 0.00000000000000000000\n"
     ]
    }
   ],
   "source": [
    "# バズフィード vs マスメディア\n",
    "# バズフィードグループのデータ\n",
    "intervention_proportion = 0.517   \n",
    "intervention_size = 270.0658\n",
    "# バズフィードグループの成功数と失敗数\n",
    "intervention_success = intervention_proportion * intervention_size\n",
    "intervention_failure = (1 - intervention_proportion) * intervention_size\n",
    "\n",
    "# マスメディアグループのデータ\n",
    "control_proportion = 0.569   \n",
    "control_size = 291.4992\n",
    "# マスメディアグループの成功数と失敗数\n",
    "control_success = control_proportion * control_size\n",
    "control_failure = (1 - control_proportion) * control_size\n",
    "\n",
    "# t検定の実行\n",
    "# 成功数（mean）、サンプルサイズ（nobs）、標準偏差（std_dev）を使用\n",
    "t_stat, p_value = ttest_ind_from_stats(\n",
    "    mean1=intervention_success, std1=(intervention_success * intervention_failure / intervention_size)**0.5, nobs1=intervention_size,\n",
    "    mean2=control_success, std2=(control_success * control_failure / control_size)**0.5, nobs2=control_size\n",
    ")\n",
    "\n",
    "print(f\"t統計量: {t_stat:.4f}, p値: {p_value:.20f}\")"
   ]
  },
  {
   "cell_type": "markdown",
   "id": "b23afadf",
   "metadata": {},
   "source": [
    "# 各グループのウェイトバック前のサンプルサイズ"
   ]
  },
  {
   "cell_type": "code",
   "execution_count": 32,
   "id": "3f97a047",
   "metadata": {},
   "outputs": [
    {
     "name": "stdout",
     "output_type": "stream",
     "text": [
      "1     12\n",
      "2     16\n",
      "3     37\n",
      "4    215\n",
      "5    114\n",
      "6    117\n",
      "7     31\n",
      "Name: q39a2, dtype: int64\n"
     ]
    }
   ],
   "source": [
    "# 政府\n",
    "# 条件に合致するデータのフィルタリング\n",
    "filtered_data = data[(data['q38提示情報の信頼度'].between(4, 7)) & (data['q39a11'] == 1) & (data['q39a14'] == 1)]\n",
    "\n",
    "post_g = filtered_data['q39a2'].value_counts().sort_index()\n",
    "\n",
    "# 結果の表示\n",
    "print(post_g)"
   ]
  },
  {
   "cell_type": "code",
   "execution_count": 33,
   "id": "d62d00f5",
   "metadata": {},
   "outputs": [
    {
     "name": "stdout",
     "output_type": "stream",
     "text": [
      "1     10\n",
      "2     18\n",
      "3     29\n",
      "4    206\n",
      "5     97\n",
      "6    137\n",
      "7     51\n",
      "Name: q39b2, dtype: int64\n"
     ]
    }
   ],
   "source": [
    "# バズフィード\n",
    "# 条件に合致するデータのフィルタリング\n",
    "filtered_data_b = data[(data['q38提示情報の信頼度'].between(4, 7)) & (data['q39b11'] == 1) & (data['q39b14'] == 1)]\n",
    "\n",
    "post_b = filtered_data_b['q39b2'].value_counts().sort_index()\n",
    "\n",
    "# 結果の表示\n",
    "print(post_b)"
   ]
  },
  {
   "cell_type": "code",
   "execution_count": 35,
   "id": "a01ea874",
   "metadata": {},
   "outputs": [
    {
     "name": "stdout",
     "output_type": "stream",
     "text": [
      "1     12\n",
      "2     18\n",
      "3     45\n",
      "4    178\n",
      "5    155\n",
      "6    142\n",
      "7     37\n",
      "Name: q39c2, dtype: int64\n"
     ]
    }
   ],
   "source": [
    "# マスメディア\n",
    "# 条件に合致するデータのフィルタリング\n",
    "filtered_data_m = data[(data['q38提示情報の信頼度'].between(4, 7)) & (data['q39c11'] == 1) & (data['q39c14'] == 1)]\n",
    "\n",
    "post_m = filtered_data_m['q39c2'].value_counts().sort_index()\n",
    "\n",
    "# 結果の表示\n",
    "print(post_m)"
   ]
  },
  {
   "cell_type": "code",
   "execution_count": 38,
   "id": "dcfa4cf9",
   "metadata": {},
   "outputs": [
    {
     "name": "stdout",
     "output_type": "stream",
     "text": [
      "0    2360\n",
      "1      16\n",
      "2      33\n",
      "3      61\n",
      "4     536\n",
      "5      33\n",
      "6       4\n",
      "7       3\n",
      "Name: q39d1, dtype: int64\n"
     ]
    }
   ],
   "source": [
    "# コントロール群\n",
    "# 条件に合致するデータのフィルタリング\n",
    "filtered_data_c = data[(data['q38提示情報の信頼度'].between(4, 7))]\n",
    "\n",
    "post_c = filtered_data_c['q39d1'].value_counts().sort_index()\n",
    "\n",
    "# 結果の表示\n",
    "print(post_c)"
   ]
  },
  {
   "cell_type": "code",
   "execution_count": null,
   "id": "ae0f9b82",
   "metadata": {},
   "outputs": [],
   "source": []
  }
 ],
 "metadata": {
  "kernelspec": {
   "display_name": "Python 3",
   "language": "python",
   "name": "python3"
  },
  "language_info": {
   "codemirror_mode": {
    "name": "ipython",
    "version": 3
   },
   "file_extension": ".py",
   "mimetype": "text/x-python",
   "name": "python",
   "nbconvert_exporter": "python",
   "pygments_lexer": "ipython3",
   "version": "3.11.4"
  }
 },
 "nbformat": 4,
 "nbformat_minor": 5
}
