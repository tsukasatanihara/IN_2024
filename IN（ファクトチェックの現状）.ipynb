{
 "cells": [
  {
   "cell_type": "code",
   "execution_count": 2,
   "id": "23bcd1fa",
   "metadata": {},
   "outputs": [
    {
     "name": "stderr",
     "output_type": "stream",
     "text": [
      "C:\\Users\\tanihara\\AppData\\Local\\Temp\\ipykernel_19484\\432599870.py:2: DtypeWarning: Columns (2115,2133,2188,2229,2302,2319) have mixed types. Specify dtype option on import or set low_memory=False.\n",
      "  data = pd.read_csv('2302_偽・誤情報調査データ.csv', encoding='cp932')\n"
     ]
    }
   ],
   "source": [
    "import pandas as pd\n",
    "data = pd.read_csv('2302_偽・誤情報調査データ.csv', encoding='cp932')"
   ]
  },
  {
   "cell_type": "markdown",
   "id": "42aad4a0",
   "metadata": {},
   "source": [
    "# 見たことのあるファクトチェックサイト"
   ]
  },
  {
   "cell_type": "code",
   "execution_count": 5,
   "id": "48c76565",
   "metadata": {},
   "outputs": [
    {
     "name": "stdout",
     "output_type": "stream",
     "text": [
      "q20ファクトチェックサイト閲覧_InFact              51.592769\n",
      "q20ファクトチェックサイト閲覧_リトマス                57.594859\n",
      "q20ファクトチェックサイト閲覧_JFC                174.528401\n",
      "q20ファクトチェックサイト閲覧_FIJ                 52.003381\n",
      "q20ファクトチェックサイト閲覧_PolitiFact          23.413944\n",
      "q20ファクトチェックサイト閲覧_APファクトチェック          33.415243\n",
      "q20ファクトチェックサイト閲覧_FullFact            29.165211\n",
      "q20ファクトチェックサイト閲覧_台湾ファクトチェックセンター      20.119946\n",
      "q20ファクトチェックサイト閲覧_SNU                 11.225682\n",
      "q20ファクトチェックサイト閲覧_この中にはない           2221.689899\n",
      "dtype: float64\n"
     ]
    }
   ],
   "source": [
    "# 選択肢ごとの回答数を集計\n",
    "q20_columns = ['q20ファクトチェックサイト閲覧_InFact', 'q20ファクトチェックサイト閲覧_リトマス', 'q20ファクトチェックサイト閲覧_JFC', 'q20ファクトチェックサイト閲覧_FIJ', \n",
    "               'q20ファクトチェックサイト閲覧_PolitiFact', 'q20ファクトチェックサイト閲覧_APファクトチェック', 'q20ファクトチェックサイト閲覧_FullFact',\n",
    "              'q20ファクトチェックサイト閲覧_台湾ファクトチェックセンター', 'q20ファクトチェックサイト閲覧_SNU', 'q20ファクトチェックサイト閲覧_この中にはない']  # q20に関連する列名をリスト化\n",
    "# ウェイトを適用して選択肢ごとの回答のウェイト合計を計算\n",
    "q20_weighted_counts = data[q20_columns].multiply(data['weight'], axis=\"index\").sum()\n",
    "\n",
    "print(q20_weighted_counts)"
   ]
  },
  {
   "cell_type": "code",
   "execution_count": 6,
   "id": "b9591d5f",
   "metadata": {},
   "outputs": [
    {
     "name": "stdout",
     "output_type": "stream",
     "text": [
      "q20ファクトチェックサイト閲覧_InFact             107\n",
      "q20ファクトチェックサイト閲覧_リトマス               118\n",
      "q20ファクトチェックサイト閲覧_JFC                359\n",
      "q20ファクトチェックサイト閲覧_FIJ                107\n",
      "q20ファクトチェックサイト閲覧_PolitiFact          49\n",
      "q20ファクトチェックサイト閲覧_APファクトチェック          69\n",
      "q20ファクトチェックサイト閲覧_FullFact            61\n",
      "q20ファクトチェックサイト閲覧_台湾ファクトチェックセンター      41\n",
      "q20ファクトチェックサイト閲覧_SNU                 24\n",
      "q20ファクトチェックサイト閲覧_この中にはない           4479\n",
      "dtype: int64\n"
     ]
    }
   ],
   "source": [
    "q20_counts = data[q20_columns].sum()\n",
    "\n",
    "print(q20_counts)"
   ]
  },
  {
   "cell_type": "code",
   "execution_count": 8,
   "id": "6b14ac5b",
   "metadata": {},
   "outputs": [
    {
     "name": "stdout",
     "output_type": "stream",
     "text": [
      "年齢階層\n",
      "1    30.915230\n",
      "2    54.237244\n",
      "3    39.752194\n",
      "4    46.144455\n",
      "5    42.176213\n",
      "6    41.010816\n",
      "dtype: float64\n"
     ]
    }
   ],
   "source": [
    "# いずれか一つのFCサイトを選んだ回答のフィルタリング\n",
    "selected_responses = data[(data['q20ファクトチェックサイト閲覧_InFact'] == 1) | (data['q20ファクトチェックサイト閲覧_リトマス'] == 1) | (data['q20ファクトチェックサイト閲覧_JFC'] == 1) |\n",
    "                        (data['q20ファクトチェックサイト閲覧_FIJ'] == 1) | (data['q20ファクトチェックサイト閲覧_PolitiFact'] == 1) | (data['q20ファクトチェックサイト閲覧_APファクトチェック'] == 1)|\n",
    "                        (data['q20ファクトチェックサイト閲覧_FullFact'] == 1) | (data['q20ファクトチェックサイト閲覧_台湾ファクトチェックセンター'] == 1) | \n",
    "                          (data['q20ファクトチェックサイト閲覧_SNU'] == 1)]\n",
    "\n",
    "# 「年齢階層」ごとにウェイトを適用して集計\n",
    "age_grouped = selected_responses.groupby('年齢階層').apply(lambda x: (x['weight']).sum())\n",
    "\n",
    "# 集計結果を表示\n",
    "print(age_grouped)"
   ]
  },
  {
   "cell_type": "code",
   "execution_count": 11,
   "id": "4ad8d0b4",
   "metadata": {},
   "outputs": [
    {
     "name": "stdout",
     "output_type": "stream",
     "text": [
      "年齢階層\n",
      "1     57\n",
      "2    116\n",
      "3     86\n",
      "4    102\n",
      "5     87\n",
      "6     73\n",
      "dtype: int64\n"
     ]
    }
   ],
   "source": [
    "# 「年齢階層」ごとにウェイトを適用して集計\n",
    "age_grouped2 = selected_responses.groupby('年齢階層').size()\n",
    "\n",
    "# 集計結果を表示\n",
    "print(age_grouped2)"
   ]
  },
  {
   "cell_type": "code",
   "execution_count": 12,
   "id": "e523ac25",
   "metadata": {},
   "outputs": [
    {
     "name": "stdout",
     "output_type": "stream",
     "text": [
      "年齢階層\n",
      "1    194.721862\n",
      "2    372.756972\n",
      "3    294.324058\n",
      "4    387.476651\n",
      "5    600.953346\n",
      "6    625.693160\n",
      "dtype: float64\n"
     ]
    }
   ],
   "source": [
    "# q20に回答した人の年齢構成\n",
    "selected_responses = data[(data['q20ファクトチェックサイト閲覧_InFact'] == 1) | (data['q20ファクトチェックサイト閲覧_リトマス'] == 1) | (data['q20ファクトチェックサイト閲覧_JFC'] == 1) |\n",
    "                        (data['q20ファクトチェックサイト閲覧_FIJ'] == 1) | (data['q20ファクトチェックサイト閲覧_PolitiFact'] == 1) | (data['q20ファクトチェックサイト閲覧_APファクトチェック'] == 1)|\n",
    "                        (data['q20ファクトチェックサイト閲覧_FullFact'] == 1) | (data['q20ファクトチェックサイト閲覧_台湾ファクトチェックセンター'] == 1) | \n",
    "                          (data['q20ファクトチェックサイト閲覧_SNU'] == 1)| (data['q20ファクトチェックサイト閲覧_この中にはない'] == 1)]\n",
    "\n",
    "# 「年齢階層」ごとにウェイトを適用して集計\n",
    "age_grouped3 = selected_responses.groupby('年齢階層').apply(lambda x: (x['weight']).sum())\n",
    "\n",
    "# 集計結果を表示\n",
    "print(age_grouped3)"
   ]
  },
  {
   "cell_type": "markdown",
   "id": "78598596",
   "metadata": {},
   "source": [
    "# FCサイトの利用状況"
   ]
  },
  {
   "cell_type": "code",
   "execution_count": 21,
   "id": "aae04898",
   "metadata": {},
   "outputs": [
    {
     "name": "stdout",
     "output_type": "stream",
     "text": [
      "q21ファクトチェック閲覧日数_InFact            260.636545\n",
      "q21ファクトチェック閲覧日数_リトマス              224.668032\n",
      "q21ファクトチェック閲覧日数_JFC               409.382371\n",
      "q21ファクトチェック閲覧日数_FIJ               204.704561\n",
      "q21ファクトチェック閲覧日数_PolitiFact        152.034959\n",
      "q21ファクトチェック閲覧日数_APファクトチェック        174.576049\n",
      "q21ファクトチェック閲覧日数_FullFact          153.929553\n",
      "q21ファクトチェック閲覧日数_台湾ファクトチェックセンター    106.212312\n",
      "q21ファクトチェック閲覧日数_SNU                74.132740\n",
      "dtype: float64\n"
     ]
    }
   ],
   "source": [
    "# カラムの指定\n",
    "q21_columns = ['q21ファクトチェック閲覧日数_InFact', 'q21ファクトチェック閲覧日数_リトマス', 'q21ファクトチェック閲覧日数_JFC', 'q21ファクトチェック閲覧日数_FIJ', \n",
    "               'q21ファクトチェック閲覧日数_PolitiFact', 'q21ファクトチェック閲覧日数_APファクトチェック', 'q21ファクトチェック閲覧日数_FullFact',\n",
    "              'q21ファクトチェック閲覧日数_台湾ファクトチェックセンター', 'q21ファクトチェック閲覧日数_SNU'] \n",
    "\n",
    "# FC閲覧合計\n",
    "total_usage = data[q21_columns].multiply(data['weight'], axis=\"index\").sum()\n",
    "\n",
    "print(total_usage)"
   ]
  },
  {
   "cell_type": "code",
   "execution_count": 22,
   "id": "27f6c8a1",
   "metadata": {},
   "outputs": [
    {
     "name": "stdout",
     "output_type": "stream",
     "text": [
      "ウェブサイトごとのウェイトを考慮した回答者数（ウェイト合計）:\n",
      "q21ファクトチェック閲覧日数_InFact: 51.59\n",
      "q21ファクトチェック閲覧日数_リトマス: 57.59\n",
      "q21ファクトチェック閲覧日数_JFC: 174.53\n",
      "q21ファクトチェック閲覧日数_FIJ: 52.00\n",
      "q21ファクトチェック閲覧日数_PolitiFact: 23.41\n",
      "q21ファクトチェック閲覧日数_APファクトチェック: 33.42\n",
      "q21ファクトチェック閲覧日数_FullFact: 29.17\n",
      "q21ファクトチェック閲覧日数_台湾ファクトチェックセンター: 20.12\n",
      "q21ファクトチェック閲覧日数_SNU: 11.23\n"
     ]
    }
   ],
   "source": [
    "# FC閲覧カウント\n",
    "# ウェイトを適用した回答者数（ウェイト合計）を計算\n",
    "weighted_counts = {}\n",
    "for column in q21_columns:\n",
    "    # 0より大きい値を持つ行をカウント\n",
    "    weighted_sum = data.loc[data[column] > 0, 'weight'].sum()\n",
    "    \n",
    "    # 結果を辞書に格納\n",
    "    weighted_counts[column] = weighted_sum\n",
    "\n",
    "# 結果の表示\n",
    "print(\"ウェブサイトごとのウェイトを考慮した回答者数（ウェイト合計）:\")\n",
    "for website, count in weighted_counts.items():\n",
    "    print(f\"{website}: {count:.2f}\")"
   ]
  },
  {
   "cell_type": "code",
   "execution_count": 38,
   "id": "1274f494",
   "metadata": {},
   "outputs": [
    {
     "name": "stdout",
     "output_type": "stream",
     "text": [
      "ウェブサイトごとの回答者数:\n",
      "q21ファクトチェック閲覧日数_InFact: 107\n",
      "q21ファクトチェック閲覧日数_リトマス: 118\n",
      "q21ファクトチェック閲覧日数_JFC: 359\n",
      "q21ファクトチェック閲覧日数_FIJ: 107\n",
      "q21ファクトチェック閲覧日数_PolitiFact: 49\n",
      "q21ファクトチェック閲覧日数_APファクトチェック: 69\n",
      "q21ファクトチェック閲覧日数_FullFact: 61\n",
      "q21ファクトチェック閲覧日数_台湾ファクトチェックセンター: 41\n",
      "q21ファクトチェック閲覧日数_SNU: 24\n"
     ]
    }
   ],
   "source": [
    "# FC閲覧カウント\n",
    "counts = {}\n",
    "for column in q21_columns:\n",
    "    # 0より大きい値を持つ行をカウント\n",
    "    count_sum = (data[column] > 0).sum()\n",
    "    \n",
    "    # 結果を辞書に格納\n",
    "    counts[column] = count_sum\n",
    "\n",
    "# 結果の表示\n",
    "print(\"ウェブサイトごとの回答者数:\")\n",
    "for website, count in counts.items():\n",
    "    print(f\"{website}: {count}\")"
   ]
  },
  {
   "cell_type": "markdown",
   "id": "ff28e0cd",
   "metadata": {},
   "source": [
    "# 情報検証需要"
   ]
  },
  {
   "cell_type": "code",
   "execution_count": 23,
   "id": "58c3477e",
   "metadata": {},
   "outputs": [
    {
     "name": "stdout",
     "output_type": "stream",
     "text": [
      "q22情報検証需要_SNS運営企業             278.375538\n",
      "q22情報検証需要_動画共有サービス運営企業        238.744900\n",
      "q22情報検証需要_テレビ新聞企業             866.146687\n",
      "q22情報検証需要_その他マスメディア企業         412.754328\n",
      "q22情報検証需要_ネットニュース運営企業         462.504582\n",
      "q22情報検証需要_公的機関                894.737309\n",
      "q22情報検証需要_ファクトチェック組織          405.414614\n",
      "q22情報検証需要_個人のウェブサイトやブログ運営者    190.111198\n",
      "q22情報検証需要_インフルエンサー            169.109100\n",
      "q22情報検証需要_その他                  25.410202\n",
      "q22情報検証需要_特になし                795.042078\n",
      "dtype: float64\n"
     ]
    }
   ],
   "source": [
    "# 選択肢ごとの回答数を集計\n",
    "q22_columns = ['q22情報検証需要_SNS運営企業', 'q22情報検証需要_動画共有サービス運営企業', 'q22情報検証需要_テレビ新聞企業', 'q22情報検証需要_その他マスメディア企業', \n",
    "               'q22情報検証需要_ネットニュース運営企業', 'q22情報検証需要_公的機関', 'q22情報検証需要_ファクトチェック組織',\n",
    "              'q22情報検証需要_個人のウェブサイトやブログ運営者', 'q22情報検証需要_インフルエンサー', 'q22情報検証需要_その他', 'q22情報検証需要_特になし']  # q20に関連する列名をリスト化\n",
    "# ウェイトを適用して選択肢ごとの回答のウェイト合計を計算\n",
    "q22_weighted_counts = data[q22_columns].multiply(data['weight'], axis=\"index\").sum()\n",
    "\n",
    "print(q22_weighted_counts)"
   ]
  },
  {
   "cell_type": "code",
   "execution_count": 24,
   "id": "c42c4dc2",
   "metadata": {},
   "outputs": [
    {
     "name": "stdout",
     "output_type": "stream",
     "text": [
      "年齢階層: 1\n",
      "q22情報検証需要_SNS運営企業             39.302347\n",
      "q22情報検証需要_動画共有サービス運営企業        24.961463\n",
      "q22情報検証需要_テレビ新聞企業             78.660918\n",
      "q22情報検証需要_その他マスメディア企業         33.208019\n",
      "q22情報検証需要_ネットニュース運営企業         39.021225\n",
      "q22情報検証需要_公的機関                83.327730\n",
      "q22情報検証需要_ファクトチェック組織          33.654711\n",
      "q22情報検証需要_個人のウェブサイトやブログ運営者    14.590791\n",
      "q22情報検証需要_インフルエンサー            22.724898\n",
      "q22情報検証需要_その他                  2.180340\n",
      "q22情報検証需要_特になし                37.709260\n",
      "dtype: float64\n",
      "\n",
      "\n",
      "年齢階層: 2\n",
      "q22情報検証需要_SNS運営企業              70.036968\n",
      "q22情報検証需要_動画共有サービス運営企業         47.077191\n",
      "q22情報検証需要_テレビ新聞企業             110.780493\n",
      "q22情報検証需要_その他マスメディア企業          67.174439\n",
      "q22情報検証需要_ネットニュース運営企業          77.024575\n",
      "q22情報検証需要_公的機関                129.305281\n",
      "q22情報検証需要_ファクトチェック組織           66.206182\n",
      "q22情報検証需要_個人のウェブサイトやブログ運営者     33.180546\n",
      "q22情報検証需要_インフルエンサー             34.914198\n",
      "q22情報検証需要_その他                   1.466273\n",
      "q22情報検証需要_特になし                114.460394\n",
      "dtype: float64\n",
      "\n",
      "\n",
      "年齢階層: 3\n",
      "q22情報検証需要_SNS運営企業              46.322518\n",
      "q22情報検証需要_動画共有サービス運営企業         44.325723\n",
      "q22情報検証需要_テレビ新聞企業              82.067623\n",
      "q22情報検証需要_その他マスメディア企業          56.558270\n",
      "q22情報検証需要_ネットニュース運営企業          66.109657\n",
      "q22情報検証需要_公的機関                102.374738\n",
      "q22情報検証需要_ファクトチェック組織           56.250667\n",
      "q22情報検証需要_個人のウェブサイトやブログ運営者     30.604384\n",
      "q22情報検証需要_インフルエンサー             32.058360\n",
      "q22情報検証需要_その他                   3.186376\n",
      "q22情報検証需要_特になし                 95.123656\n",
      "dtype: float64\n",
      "\n",
      "\n",
      "年齢階層: 4\n",
      "q22情報検証需要_SNS運営企業              46.330691\n",
      "q22情報検証需要_動画共有サービス運営企業         36.645823\n",
      "q22情報検証需要_テレビ新聞企業             117.833374\n",
      "q22情報検証需要_その他マスメディア企業          67.679420\n",
      "q22情報検証需要_ネットニュース運営企業          72.222674\n",
      "q22情報検証需要_公的機関                132.103048\n",
      "q22情報検証需要_ファクトチェック組織           69.095760\n",
      "q22情報検証需要_個人のウェブサイトやブログ運営者     38.269717\n",
      "q22情報検証需要_インフルエンサー             22.762972\n",
      "q22情報検証需要_その他                   4.110924\n",
      "q22情報検証需要_特になし                144.063497\n",
      "dtype: float64\n",
      "\n",
      "\n",
      "年齢階層: 5\n",
      "q22情報検証需要_SNS運営企業              41.246203\n",
      "q22情報検証需要_動画共有サービス運営企業         44.820926\n",
      "q22情報検証需要_テレビ新聞企業             210.657513\n",
      "q22情報検証需要_その他マスメディア企業          93.116524\n",
      "q22情報検証需要_ネットニュース運営企業          95.238218\n",
      "q22情報検証需要_公的機関                200.824943\n",
      "q22情報検証需要_ファクトチェック組織           90.131361\n",
      "q22情報検証需要_個人のウェブサイトやブログ運営者     42.783326\n",
      "q22情報検証需要_インフルエンサー             33.767255\n",
      "q22情報検証需要_その他                   7.894026\n",
      "q22情報検証需要_特になし                212.050079\n",
      "dtype: float64\n",
      "\n",
      "\n",
      "年齢階層: 6\n",
      "q22情報検証需要_SNS運営企業              35.136812\n",
      "q22情報検証需要_動画共有サービス運営企業         40.913773\n",
      "q22情報検証需要_テレビ新聞企業             266.146765\n",
      "q22情報検証需要_その他マスメディア企業          95.017656\n",
      "q22情報検証需要_ネットニュース運営企業         112.888234\n",
      "q22情報検証需要_公的機関                246.801570\n",
      "q22情報検証需要_ファクトチェック組織           90.075933\n",
      "q22情報検証需要_個人のウェブサイトやブログ運営者     30.682433\n",
      "q22情報検証需要_インフルエンサー             22.881416\n",
      "q22情報検証需要_その他                   6.572263\n",
      "q22情報検証需要_特になし                191.635192\n",
      "dtype: float64\n",
      "\n",
      "\n"
     ]
    }
   ],
   "source": [
    "grouped = data.groupby('年齢階層')\n",
    "for name, group in grouped:\n",
    "    print(f\"年齢階層: {name}\")\n",
    "    q22_weighted_counts = group[q22_columns].multiply(group['weight'], axis=\"index\").sum()\n",
    "    print(q22_weighted_counts)\n",
    "    print(\"\\n\")"
   ]
  },
  {
   "cell_type": "code",
   "execution_count": 25,
   "id": "f3e59b46",
   "metadata": {},
   "outputs": [
    {
     "name": "stdout",
     "output_type": "stream",
     "text": [
      "q22情報検証需要_SNS運営企業              573\n",
      "q22情報検証需要_動画共有サービス運営企業         489\n",
      "q22情報検証需要_テレビ新聞企業             1723\n",
      "q22情報検証需要_その他マスメディア企業          838\n",
      "q22情報検証需要_ネットニュース運営企業          938\n",
      "q22情報検証需要_公的機関                1793\n",
      "q22情報検証需要_ファクトチェック組織           826\n",
      "q22情報検証需要_個人のウェブサイトやブログ運営者     392\n",
      "q22情報検証需要_インフルエンサー             346\n",
      "q22情報検証需要_その他                   51\n",
      "q22情報検証需要_特になし                1618\n",
      "dtype: int64\n"
     ]
    }
   ],
   "source": [
    "# ウェイトなし\n",
    "q22_counts = data[q22_columns].sum()\n",
    "\n",
    "print(q22_counts)"
   ]
  },
  {
   "cell_type": "markdown",
   "id": "b51c12ef",
   "metadata": {},
   "source": [
    "# 情報判断に及ぼす影響"
   ]
  },
  {
   "cell_type": "code",
   "execution_count": 31,
   "id": "424de9dc",
   "metadata": {},
   "outputs": [
    {
     "name": "stderr",
     "output_type": "stream",
     "text": [
      "C:\\Users\\tanihara\\AppData\\Local\\Temp\\ipykernel_19484\\580596470.py:1: DtypeWarning: Columns (1513,1532,1578,1618,1646,1664) have mixed types. Specify dtype option on import or set low_memory=False.\n",
      "  data2 = pd.read_csv('data2.csv', encoding='cp932')\n"
     ]
    }
   ],
   "source": [
    "data2 = pd.read_csv('data2.csv', encoding='cp932')"
   ]
  },
  {
   "cell_type": "code",
   "execution_count": 33,
   "id": "f4b48caf",
   "metadata": {},
   "outputs": [
    {
     "name": "stdout",
     "output_type": "stream",
     "text": [
      "q36_response_timeのウェイトバックされた平均値: 37.239\n",
      "q37_response_timeのウェイトバックされた平均値: 54.740\n"
     ]
    }
   ],
   "source": [
    "# q36_response_timeに回答があるデータのみをフィルタリング\n",
    "filtered_data_q36 = data2[data2['q36_response_time'].notnull()]\n",
    "# q36_response_timeのウェイトバックされた平均値を算出\n",
    "weighted_average_q36 = (filtered_data_q36['q36_response_time'] * filtered_data_q36['weight']).sum() / filtered_data_q36['weight'].sum()\n",
    "\n",
    "# q37_response_timeに回答があるデータのみをフィルタリング\n",
    "filtered_data_q37 = data2[data2['q37_response_time'].notnull()]\n",
    "# q37_response_timeのウェイトバックされた平均値を算出\n",
    "weighted_average_q37 = (filtered_data_q37['q37_response_time'] * filtered_data_q37['weight']).sum() / filtered_data_q37['weight'].sum()\n",
    "\n",
    "# 結果の表示\n",
    "print(f\"q36_response_timeのウェイトバックされた平均値: {weighted_average_q36:.3f}\")\n",
    "print(f\"q37_response_timeのウェイトバックされた平均値: {weighted_average_q37:.3f}\")"
   ]
  },
  {
   "cell_type": "code",
   "execution_count": 29,
   "id": "d5e9e982",
   "metadata": {},
   "outputs": [
    {
     "name": "stdout",
     "output_type": "stream",
     "text": [
      "t統計量: -4.50, p値: 0.000\n"
     ]
    }
   ],
   "source": [
    "from scipy.stats import ttest_ind\n",
    "\n",
    "# q36_response_timeとq37_response_timeのデータを抽出\n",
    "q36_data = data2['q36_response_time']\n",
    "q37_data = data2['q37_response_time']\n",
    "\n",
    "# t検定を実行\n",
    "t_stat, p_value = ttest_ind(q36_data, q37_data, nan_policy='omit')\n",
    "\n",
    "# 結果の表示\n",
    "print(f\"t統計量: {t_stat:.2f}, p値: {p_value:.3f}\")"
   ]
  },
  {
   "cell_type": "code",
   "execution_count": 35,
   "id": "11d0668f",
   "metadata": {},
   "outputs": [
    {
     "name": "stdout",
     "output_type": "stream",
     "text": [
      "t統計量: -4.428489029674191, p値: 9.716778744576418e-06\n"
     ]
    }
   ],
   "source": [
    "from scipy import stats\n",
    "\n",
    "# ウェイトを適用したデータポイントの生成（例示）\n",
    "weighted_q36_data = data2['q36_response_time'] * data2['weight']\n",
    "weighted_q37_data = data2['q37_response_time'] * data2['weight']\n",
    "\n",
    "# NaNを除外\n",
    "weighted_q36_data = weighted_q36_data.dropna()\n",
    "weighted_q37_data = weighted_q37_data.dropna()\n",
    "\n",
    "# 2サンプルt検定の実施\n",
    "t_stat, p_value = stats.ttest_ind(weighted_q36_data, weighted_q37_data, equal_var=False)\n",
    "\n",
    "print(f\"t統計量: {t_stat}, p値: {p_value}\")"
   ]
  },
  {
   "cell_type": "code",
   "execution_count": 30,
   "id": "7db1f3cd",
   "metadata": {},
   "outputs": [
    {
     "name": "stdout",
     "output_type": "stream",
     "text": [
      "q36_response_timeに回答した人の数: 2551\n",
      "q37_response_timeに回答した人の数: 2449\n"
     ]
    }
   ],
   "source": [
    "# q36_response_timeに回答した人の数を算出\n",
    "q36_respondents = data2['q36_response_time'].notnull().sum()\n",
    "\n",
    "# q37_response_timeに回答した人の数を算出\n",
    "q37_respondents = data2['q37_response_time'].notnull().sum()\n",
    "\n",
    "# 結果の表示\n",
    "print(f\"q36_response_timeに回答した人の数: {q36_respondents}\")\n",
    "print(f\"q37_response_timeに回答した人の数: {q37_respondents}\")"
   ]
  },
  {
   "cell_type": "code",
   "execution_count": null,
   "id": "135f6a93",
   "metadata": {},
   "outputs": [],
   "source": []
  }
 ],
 "metadata": {
  "kernelspec": {
   "display_name": "Python 3",
   "language": "python",
   "name": "python3"
  },
  "language_info": {
   "codemirror_mode": {
    "name": "ipython",
    "version": 3
   },
   "file_extension": ".py",
   "mimetype": "text/x-python",
   "name": "python",
   "nbconvert_exporter": "python",
   "pygments_lexer": "ipython3",
   "version": "3.11.4"
  }
 },
 "nbformat": 4,
 "nbformat_minor": 5
}
